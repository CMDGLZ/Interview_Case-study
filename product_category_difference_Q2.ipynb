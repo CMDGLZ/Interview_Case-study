{
 "cells": [
  {
   "cell_type": "code",
   "execution_count": 1,
   "id": "73204452-84b8-44cf-8e7a-91fb7775b62b",
   "metadata": {},
   "outputs": [],
   "source": [
    "import pandas as pd\n",
    "import matplotlib.pyplot as plt\n",
    "import math"
   ]
  },
  {
   "cell_type": "code",
   "execution_count": 2,
   "id": "59f48ee1-3a01-4836-8ce4-957a64b6170d",
   "metadata": {},
   "outputs": [],
   "source": [
    "# Step 1: Read all the Excel files over the 7 days into pandas dataframe\n",
    "file_dates = ['19.04.2021', '20.04.2021', '21.04.2021', '22.04.2021', '23.04.2021', '24.04.2021', '25.04.2021']\n",
    "dfs = []\n",
    "\n",
    "for date in file_dates:\n",
    "    file_path = f'VP_{date}.xlsx'\n",
    "    df = pd.read_excel(file_path)\n",
    "    dfs.append(df)"
   ]
  },
  {
   "cell_type": "code",
   "execution_count": 3,
   "id": "abdc078a-6e02-4eca-8fed-76bee7eda3dd",
   "metadata": {},
   "outputs": [
    {
     "data": {
      "text/html": [
       "<div>\n",
       "<style scoped>\n",
       "    .dataframe tbody tr th:only-of-type {\n",
       "        vertical-align: middle;\n",
       "    }\n",
       "\n",
       "    .dataframe tbody tr th {\n",
       "        vertical-align: top;\n",
       "    }\n",
       "\n",
       "    .dataframe thead th {\n",
       "        text-align: right;\n",
       "    }\n",
       "</style>\n",
       "<table border=\"1\" class=\"dataframe\">\n",
       "  <thead>\n",
       "    <tr style=\"text-align: right;\">\n",
       "      <th></th>\n",
       "      <th>Shop ID</th>\n",
       "      <th>Artikel Shop-Nummer</th>\n",
       "      <th>Verkaufspreis</th>\n",
       "      <th>Datum</th>\n",
       "    </tr>\n",
       "  </thead>\n",
       "  <tbody>\n",
       "    <tr>\n",
       "      <th>0</th>\n",
       "      <td>1</td>\n",
       "      <td>33</td>\n",
       "      <td>22.70</td>\n",
       "      <td>2021-04-19</td>\n",
       "    </tr>\n",
       "    <tr>\n",
       "      <th>1</th>\n",
       "      <td>1</td>\n",
       "      <td>119</td>\n",
       "      <td>17.90</td>\n",
       "      <td>2021-04-19</td>\n",
       "    </tr>\n",
       "    <tr>\n",
       "      <th>2</th>\n",
       "      <td>1</td>\n",
       "      <td>120</td>\n",
       "      <td>17.90</td>\n",
       "      <td>2021-04-19</td>\n",
       "    </tr>\n",
       "    <tr>\n",
       "      <th>3</th>\n",
       "      <td>1</td>\n",
       "      <td>121</td>\n",
       "      <td>17.90</td>\n",
       "      <td>2021-04-19</td>\n",
       "    </tr>\n",
       "    <tr>\n",
       "      <th>4</th>\n",
       "      <td>1</td>\n",
       "      <td>122</td>\n",
       "      <td>19.90</td>\n",
       "      <td>2021-04-19</td>\n",
       "    </tr>\n",
       "    <tr>\n",
       "      <th>...</th>\n",
       "      <td>...</td>\n",
       "      <td>...</td>\n",
       "      <td>...</td>\n",
       "      <td>...</td>\n",
       "    </tr>\n",
       "    <tr>\n",
       "      <th>290551</th>\n",
       "      <td>1</td>\n",
       "      <td>2747255</td>\n",
       "      <td>38.95</td>\n",
       "      <td>2021-04-25</td>\n",
       "    </tr>\n",
       "    <tr>\n",
       "      <th>290552</th>\n",
       "      <td>1</td>\n",
       "      <td>2747256</td>\n",
       "      <td>38.95</td>\n",
       "      <td>2021-04-25</td>\n",
       "    </tr>\n",
       "    <tr>\n",
       "      <th>290553</th>\n",
       "      <td>1</td>\n",
       "      <td>2747257</td>\n",
       "      <td>38.95</td>\n",
       "      <td>2021-04-25</td>\n",
       "    </tr>\n",
       "    <tr>\n",
       "      <th>290554</th>\n",
       "      <td>1</td>\n",
       "      <td>2747258</td>\n",
       "      <td>38.95</td>\n",
       "      <td>2021-04-25</td>\n",
       "    </tr>\n",
       "    <tr>\n",
       "      <th>290555</th>\n",
       "      <td>1</td>\n",
       "      <td>2747259</td>\n",
       "      <td>38.95</td>\n",
       "      <td>2021-04-25</td>\n",
       "    </tr>\n",
       "  </tbody>\n",
       "</table>\n",
       "<p>305933 rows × 4 columns</p>\n",
       "</div>"
      ],
      "text/plain": [
       "        Shop ID  Artikel Shop-Nummer  Verkaufspreis      Datum\n",
       "0             1                   33          22.70 2021-04-19\n",
       "1             1                  119          17.90 2021-04-19\n",
       "2             1                  120          17.90 2021-04-19\n",
       "3             1                  121          17.90 2021-04-19\n",
       "4             1                  122          19.90 2021-04-19\n",
       "...         ...                  ...            ...        ...\n",
       "290551        1              2747255          38.95 2021-04-25\n",
       "290552        1              2747256          38.95 2021-04-25\n",
       "290553        1              2747257          38.95 2021-04-25\n",
       "290554        1              2747258          38.95 2021-04-25\n",
       "290555        1              2747259          38.95 2021-04-25\n",
       "\n",
       "[305933 rows x 4 columns]"
      ]
     },
     "execution_count": 3,
     "metadata": {},
     "output_type": "execute_result"
    }
   ],
   "source": [
    "# Step 2: Concatenate the dataframes into a single dataframe\n",
    "combined_df_webshops = pd.concat(dfs)\n",
    "combined_df_webshops.drop_duplicates(subset=[\"Artikel Shop-Nummer\"], keep='first') # drop the duplicated Artikel Shop-Nummer"
   ]
  },
  {
   "cell_type": "code",
   "execution_count": 4,
   "id": "765caf50-bb3a-4e82-84fb-ee99be366929",
   "metadata": {},
   "outputs": [
    {
     "name": "stdout",
     "output_type": "stream",
     "text": [
      "        Shop ID  Artikelnummer  Verkaufspreis      Datum\n",
      "0             1             33          22.70 2021-04-19\n",
      "1             1            119          17.90 2021-04-19\n",
      "2             1            120          17.90 2021-04-19\n",
      "3             1            121          17.90 2021-04-19\n",
      "4             1            122          19.90 2021-04-19\n",
      "...         ...            ...            ...        ...\n",
      "409020        3        2746277          39.95 2021-04-25\n",
      "409021        3        2746278          34.95 2021-04-25\n",
      "409022        3        2746279         119.90 2021-04-25\n",
      "409023        3        2746580          34.95 2021-04-25\n",
      "409024        3        2747223         201.95 2021-04-25\n",
      "\n",
      "[2750849 rows x 4 columns]\n"
     ]
    }
   ],
   "source": [
    "# Step 3: Rename the column name of the combined file, to prepare for the merge\n",
    "combined_df_webshops.rename(columns = {'Artikel Shop-Nummer':'Artikelnummer'}, inplace = True) \n",
    "print(combined_df_webshops)"
   ]
  },
  {
   "cell_type": "code",
   "execution_count": 5,
   "id": "f3b23639-3806-4f9e-9a9a-0594de2d98a9",
   "metadata": {
    "tags": []
   },
   "outputs": [
    {
     "name": "stdout",
     "output_type": "stream",
     "text": [
      "          Shop ID  Artikelnummer  Verkaufspreis      Datum  \\\n",
      "0               1             33          22.70 2021-04-19   \n",
      "1               1             33          22.70 2021-04-19   \n",
      "2               1             33          22.70 2021-04-19   \n",
      "3               1             33          22.70 2021-04-19   \n",
      "4               1             33          22.70 2021-04-19   \n",
      "...           ...            ...            ...        ...   \n",
      "53559895        3        2746580          34.95 2021-04-25   \n",
      "53559896        3        2747223         201.95 2021-04-25   \n",
      "53559897        3        2747223         201.95 2021-04-25   \n",
      "53559898        3        2747223         201.95 2021-04-25   \n",
      "53559899        3        2747223         201.95 2021-04-25   \n",
      "\n",
      "              Artikelkategorie  \n",
      "0            Kunst & Literatur  \n",
      "1            Kunst & Literatur  \n",
      "2            Kunst & Literatur  \n",
      "3            Kunst & Literatur  \n",
      "4            Kunst & Literatur  \n",
      "...                        ...  \n",
      "53559895  Mobiltelefon Zubehör  \n",
      "53559896       Aktenvernichter  \n",
      "53559897       Aktenvernichter  \n",
      "53559898       Aktenvernichter  \n",
      "53559899       Aktenvernichter  \n",
      "\n",
      "[53559900 rows x 5 columns]\n"
     ]
    }
   ],
   "source": [
    "# Step 4: Merge own webshop data with competitor data based on product number to indicate the product category\n",
    "competitors_data = pd.read_csv(\"Konkurrenzdaten_new.csv\")\n",
    "\n",
    "merged_data = pd.merge(combined_df_webshops, competitors_data[['Artikelnummer', 'Artikelkategorie']], on='Artikelnummer', how='left')\n",
    "\n",
    "print(merged_data)"
   ]
  },
  {
   "cell_type": "code",
   "execution_count": 6,
   "id": "271a1da7-05ca-44bd-a2d5-dce71379b3f2",
   "metadata": {},
   "outputs": [
    {
     "name": "stdout",
     "output_type": "stream",
     "text": [
      "          Shop ID  Artikelnummer      Artikelkategorie\n",
      "0               1             33     Kunst & Literatur\n",
      "1               1             33     Kunst & Literatur\n",
      "2               1             33     Kunst & Literatur\n",
      "3               1             33     Kunst & Literatur\n",
      "4               1             33     Kunst & Literatur\n",
      "...           ...            ...                   ...\n",
      "53559895        3        2746580  Mobiltelefon Zubehör\n",
      "53559896        3        2747223       Aktenvernichter\n",
      "53559897        3        2747223       Aktenvernichter\n",
      "53559898        3        2747223       Aktenvernichter\n",
      "53559899        3        2747223       Aktenvernichter\n",
      "\n",
      "[53559900 rows x 3 columns]\n"
     ]
    }
   ],
   "source": [
    "## Drop the columns I don't really need\n",
    "merged_data.drop(['Verkaufspreis', 'Datum'], axis=1, inplace=True)\n",
    "\n",
    "print(merged_data)"
   ]
  },
  {
   "cell_type": "code",
   "execution_count": 7,
   "id": "faed7e41-2b30-49f2-8674-22033f59912e",
   "metadata": {},
   "outputs": [],
   "source": [
    "# Step 5: Identify unique product categories\n",
    "unique_own_categories = merged_data['Artikelkategorie'].unique()\n",
    "unique_competitor_categories = competitors_data['Artikelkategorie'].unique()"
   ]
  },
  {
   "cell_type": "code",
   "execution_count": 8,
   "id": "f0da15a5-5f64-4f99-8e89-2e5e5f42a48d",
   "metadata": {},
   "outputs": [
    {
     "name": "stdout",
     "output_type": "stream",
     "text": [
      "Unique categories in your own webshops only: 0 category/categories\n",
      "\n",
      "\n",
      "Unique categories in competitors: 2 category/categories\n",
      "\n",
      "\n",
      "Categories common to both in total: 1583 category/categories\n",
      "\n",
      "\n",
      "Unique categories in your own webshops only: {nan}\n",
      "\n",
      "\n",
      "Categories common to both: {'Kompaktkameras', 'Versandboxen', 'Backblech', 'Spielfiguren Zubehör', 'Topflappen & Ofenhandschuhe', 'Netzwerkkameras', 'IPL Haarentfernung', 'Kopfkissen', 'Modelliermasse', 'Grafiktablets', 'Rettungsmittel', 'Lasermessgeräte', 'Kinderstühle & Sessel', 'Lippenstift & Lipgloss', 'Greifer & Haken Zubehör', 'Mobiltelefon Akku', 'Objektivzubehör', 'Baby Pflegeset', 'Milchpumpe Zubehör', 'Hot Stone Platten', 'Rasierer- & Haarentfernungszubehör', 'Gewächshäuser & Pflanzenschutz', 'Schwimmflossen', 'Medienkonverter', 'Vogel Spielzeug', 'Haarcoloration', 'Katzenbedarf', 'Baby Duschgel & Badezusätze', 'Nagelöl-/Crème', 'Audiorecording', 'Poolpumpen', 'Etiketten- & Belegdrucker', 'Pastamaschinen', 'Knöpfe', 'Fahrzeughalterungen', 'Handauflage', 'Laufwerke', 'Kopfschutz', 'USB-Hubs', 'Leuchtmittel Pro', 'Heftklammern', 'Gadgets & Kleinspielwaren', 'Terrarium Werkzeuge & Zubehör', 'Badetücher', 'Löffel', 'Sammelkarten', 'Tinte & Tintenpatronen', 'Schneidematten', 'Messer & Scheren', 'Sessel', 'Terrarien Klimatechnik', 'Nagelpflegegeräte', 'Zwingen & Klemmen', 'Entwicklerboards Zubehör', 'Beleuchtungs- & Fotostudiozubehör', 'Verpackungsbänder & Abroller', 'Nahrungsergänzung', 'Veloflaschenhalter', 'Thermobecher', 'Trekking-& Wanderstöcke', 'Fahrzeugwäsche', 'Kostüme', 'Kreissägeblätter', 'Velo Werkzeugsets', 'Kindersachbücher', 'Dartblaster', 'Wickeln Zubehör', 'LED Birnen', 'Notebook Sicherheitsschloss', 'Visitenkartenhalter', 'Kinderkameras', 'Schwimmbretter', 'Laufgitter', 'Auflaufformen', 'Beamer', 'Mikrowellen', 'Squashschläger', 'Camping Kocher', 'Grill', 'Aufbau- & Einbauspots', 'Fussball', 'Partygeschirr', 'Sterilisator', 'Trainingshilfen', 'Stoffe', 'Spielwaren Outdoor', 'Tischgeräte', 'Schlitten', 'Mainboards', 'Schwimmen Zubehör', 'Autositzbezüge', 'Turnsäcke', 'Osterbacken', 'Lötstationen & Lötkolben', 'Fotorahmen Digital', 'Tisch- und Säulenbohrmaschine', 'Anzündhilfen', 'Rollentrainer Zubehör', 'Mobiltelefon Zubehör', 'Nageltrockner', 'Entfeuchter', 'Baby Körperlotionen & Salben', 'Körperpflegeprodukte', 'Katzenklappen & Netze', 'Bügelperlen', 'Alarmsysteme', 'Dartpfeile', 'Camping Zubehör', 'Feilen & Raspel', 'Ratgeber Gesundheit', 'Werkstattsauger', 'Weihnachten Zubehör', 'Passevite', 'Baby Mundpflege & Zahnungshilfen', 'Anreisswerkzeuge', 'Kanister', 'Schwimmkappe', 'Wetterstationen', 'Hobel- und Werkbänke', 'Schlauchverbinder', 'Sammelkarten Zubehör', 'PC Zubehör', 'Video Kabel', 'Car-Lautsprecher', 'Hüllen & Folien Tablet', 'Wasserbettmatratzen', 'Tennis Zubehör', 'Vasen', 'Vakuumiergeräte', 'Hunde Spielzeug', 'Weitere Lebensmittelspender', 'Lightstrips', 'Draht- und Schleifbürsten', 'Teich Pflege- & Reinigungsutensilien', 'Flaschenwärmer', 'Kaffeefilter', 'Schaltwerk', 'Pflanzen Anzuchtgefässe', 'Handtrainer', 'Bastelfarben', 'Gartenpumpen', 'Kinderteppiche', 'Baby Haarbürsten & Kämme', 'Ladungssicherung & Fahrzeugorganisation', 'Wasserfilter Kartusche', 'Pflegeprodukte für Mama', 'Scheiben- & Türschlossenteiser', 'Zubehör Kopfhörer', 'Bindegeräte', 'Katzen Trockenfutter', 'Geschirrspülmittel', 'Eisen- & Kugelbahnen', 'Wattestäbchen', 'Trinkflaschen Zubehör', 'Klebebandabroller', 'VR-Brillen', 'Outdoor Kochgeschirr', 'Esstische', 'Schlafsäcke', 'Herd & Backofen Zubehör', 'Badutensilienhalter', 'Maler- & Mauerwerkzeug Zubehör', 'Entdecken & Experimentieren', 'Malkästen/-koffer', 'Switches', 'Wickeltaschen', 'Zubehör Rückfahrkameras & Dashcams', 'Ratgeber Essen & Trinken', 'Velosattel', 'Kinder Gehörschutz', 'Zubehör Empfangstechnik', 'Gewindeschneiden aussen', 'Handfunkgeräte', 'Ringe', 'Aufbewahrung', 'Werkzeug Akkus', 'Exzenterschleifer', 'Schraubendreher', 'Agenden', 'Werkzeug- und Werkstattwagen', 'Spiegel', 'Bar Zubehör', 'Ski Zubehör', 'Armaturen', 'Schwimmbrille', 'Grillabdeckungen', 'Transceiver', 'Transportwagen', 'Rennbahn Set', 'Nieten & Heften Zubehör', 'Kugelschreiber & Tintenroller', 'Epilierer', 'Beckenbodentrainer', 'Geometrie-Set', 'Basketball Zubehör', 'Gartenzwerge & Figuren', 'Marker', 'Tennistaschen', 'Stativ Zubehör', 'Fetisch & Liebesmöbel', 'Heizdecken & -kissen', 'Fahrzeuglufterfrischer &-entfeuchter', 'Bauklötze & Stacking', 'Damen Elektrorasierer', 'Hunde Wasser & Futternäpfe', 'Spielwaren diverse', 'Rohrschneider', 'Beschriftungsband', 'Dampfreiniger', 'Velotasche', 'Kontaktlinsenpflegemittel', 'Lavabounterschränke', 'Ohrschmuck', 'Velohelm', 'Notebook Bildschirmfolie', 'Kalender', 'Schnitzwerkzeuge', 'SSD Festplatten', 'Fahrzeugorganisation & Kofferaumbedarf', 'Akkuschrauber', 'Mulltücher', 'Lüfter', 'Grossformatdrucker', 'PC Halterung', 'Tischtuch', 'Badezimmerschränke', 'Seifenspender', 'Mercerie & Nähmaschinen Zubehör', 'Schränke', 'Schnorchelset', 'Gartenkissen und Auflagen', 'Federkernmatratzen', 'Wagenheber', 'Messbecher', 'Rasentrimmer Zubehör', 'Ratgeber Hobby & Haus', 'Navigationsgeräte Zubehör', 'Tresore & Geldkassetten', 'Sparschäler', 'RC Fahrzeuge', 'Pflanzenuntersetzer', 'Arbeitsschutz Zubehör', 'Schneidebretter', 'Lichttherapielampen', 'Baum- & Strauchschneider', 'Strandtücher', 'RC Drohnen', 'Schmiermittel', 'Wasserfilter-Armatur', 'Radio & Boomboxen', 'Registrierkassen & Kassensysteme', 'Serviettenhalter', 'Thermofoodbehälter', 'Zuckerdosen', 'Handhobel', 'Pools', 'Babyflaschen Zubehör', 'Spann- & Hebegurt', 'Getönte Tagespflege', 'Natur & Technik', 'Deko Accessoires', 'Outdoor Besteck', 'Duvetanzüge', 'Zubehör Lautsprecher', 'Campingmöbel', 'Gartenbänke', 'Veloträger', 'Tiefkühlgeräte', 'Fahrzeugantennen', 'Handbohrer', 'Additive', 'Staubsaugerbeutel', 'Geodreieck', 'Paddel', 'Regenschirme', 'Weihnachten zu Hause', 'Pavillons', 'Diktiergeräte', 'Aqua Fitness', 'Tower & Desktop PCs', 'Intimpflege', 'Nuggi', 'Katzen Leinen & Halsbänder', 'Car-Audio', 'Laminiergeräte', 'Augentropfen', 'Box Sets', 'Teichbau', 'Aquarienbeleuchtung', 'Fräsen & Hobelzubehör', 'Audio Kabel', 'Schirmständer', 'Sporttasche', 'Strandspiele', 'Deko-Objekte', 'Felgenbremsbeläge', 'Sportuhren', 'Velo Aufbewahrung', 'Osterdeko', 'Eier-Kocher', 'Backpapier & Bratfolien', 'Nadeldrucker', 'Diverse Aufbewahrungslösungen & Zubehör', 'Wasserbett Zubehör', 'Skipflege & Werkzeug', 'Zubehör Aufnehmen & Diktieren', '3D Druckmaterial', 'Spiele Zubehör', 'Puppen', 'Geldprüfer und -zähler', 'Telefon Kabel / Adapter', 'Etageren & Tabletts', 'Stanz- & Nietwerkzeug', 'Nageldesign', 'Kunstnägel', 'Aquarienmöbel', 'Schwangerschaftstests', 'Nuggiketten & Zubehör', 'Schraubwerkzeuge & Zangen Zubehör', 'Fusspflegeprodukte', 'Tischwasserfilter', 'Hoch- und Niederdruckreiniger', 'Herd/Backofen', 'Fahrzeughüllen', 'Katzen Spielzeug', 'Drehmomentwerkzeuge', 'Auflageboxen', 'Picknickkorb', 'Hunde Kauartikel & Snacks', 'Gehäuse Zubehör & Komponentenmontage', 'Babynahrungszubereiter', 'Tischtennis Zubehör', 'Medikamentendosierer', 'Lernspiele', 'Mülltonnen', 'Sonnenbrille', 'Netzwerk Media Player', 'Leinwände', 'Ferngläser', 'Montage Kits & Zubehör', 'Servierbesteck', 'Bettwäschegarnitur', 'Sonnenschirme', 'Bürostühle', 'Hanteln & Kettlebell', 'Billardtisch', 'Gehörschutz', 'Velogabel Zubehör', 'NAS', 'Basketballkorb', 'Seifenschale', 'Schneerutscher', 'Papierrollenhalter', 'Gefrierbeutel', 'Tagebücher & Poesiealben', 'Baby Reisebett', 'Backformen', 'Ostern zu Hause', 'Bauchtaschen', 'Resttonerbehälter', 'Gartentisch Garnituren', 'Strommessgeräte', 'Kochplatten', 'Sägen', 'Falzmaschine', 'Gartenmaschinen Diverses', 'Geruchsneutralisierung', 'Laubbläser & Sauger', 'RC Fernsteuerung & Empfänger', 'Kabelrollen', 'Eyeliner & Kajalstift', 'Mobility', 'Badmintonshuttle', 'Notebook Zubehör', 'Schlauchboot Zubehör', 'Bauchbänder', 'Audio Adapter', 'Luftpumpen', 'Tagesdecken & Bettüberwürfe', 'Nachttisch', 'Smartwatches Zubehör', 'Akkustaubsauger', 'Vogelbedarf', 'Bits', 'Dekupiersäge', 'Öl- & Essigspender', 'Trinkflaschen', 'Veloanhänger Zubehör', 'Lichterketten', 'Fräsmaschinen stationär', 'Oberkörperschutz', 'Tischleuchten', 'Velogriff', 'Gewindebohren innen', 'Objektivadapter & - konverter', 'Neoprenanzüge', 'Schaber', 'Käfige und Käfigeinrichtung', 'Gartenteich Zubehör', 'Fahrzeugdesign', 'Analtoys', 'Dekokissenbezüge', 'Car-Audio Zubehör', 'RC Drohnen Zubehör', 'Steckschlüssel', 'Beschriftungsgerät', 'Lidschatten', 'Heftapparate', 'Tischtennisschläger', 'Milchaufschäumer', 'Pratzen', 'Systemkameras', 'Haar- & Effilierschere', 'Verpackungsmaterial', 'Haarstyling Tools: Zubehör', 'Abschleppseile', 'Dartblaster Zubehör', 'Zubehör HiFi', 'Still BHs & Einlagen', 'Malschablonen', 'Volleyballnetz', 'Wundpflege & Erste Hilfe', 'Velokette', 'Sattelstütze', 'CPU Kühlung', 'Multi Cooker', 'Teller', 'Werkzeug Steuersätze', 'Perlen & Pailletten', 'Bob', 'Ausstechformen', 'HDD Festplatten', 'Unihockey Tor', 'Kommoden & Wickeltische', 'Küchenthermometer', 'Malpapier', 'Reisegepäck', 'Kopfkissenbezüge', 'Tintenpatronen', 'Duschgel', 'Schmuck- & Dekohandwerk Zubehör', 'Schweissgeräte', 'Gaming Headsets', 'Weihnachtswindlichter', 'Sportbrillen', 'Augenbrauen-Make-up', 'Aquarium', 'Veloschloss', 'Duschschläuche', 'Vogelhaus & Futterstelle', 'Halsschmuck', 'Starthilfen', 'Karten- & Würfelspiele', 'Mörser', 'Geschenk- & Wertkarten', 'Mikrofon', 'Ziervogelfutter', 'Dunstabzugshauben', 'Velos', 'Mouthguard', 'Faxgeräte', 'Haarglätter', 'Spritzbeutel & Tüllen', 'Diverse Fotokameras', 'Katzen Nassfutter', 'Insektenschutzmittel', 'Liebesbox & -spiele', 'Schwimm- & Rettungswesten', 'Velo Montageständer', 'Puckdecke & Fixdecke', 'Smart Home Zubehör', 'Teichfilter & Pumpen', 'Diverse Schmuckaccessoires', 'CD- & Kartendrucker', 'Bodenleuchten', 'Haarstylingprodukte', 'Weihnachtsbeleuchtung', 'Präsentationstafeln Zubehör', 'Wanduhren', 'Deko Zubehör', 'Kindervelos & Laufräder', 'Pflanzengefässe & Übertöpfe', 'Haarshampoo', 'Monitor Halterung', 'Nähmaschinen', 'Aufschnittmaschinen', 'Luftmatratzen', 'Toilettenbürstenhalter', 'Whirlpools', 'Hunde Leinen & Halsbänder', 'Schnorchel', 'Landkarten & Atlanten', 'Pfannenschutz', 'Kamera Akkus & Ladegeräte', 'Wecker', 'Pfannen & Kochtöpfe', 'Herren Elektrorasierer', 'Spielesammlungen', 'Standascher', 'Multifunktionswerkzeuge', 'Veloständer', 'Textilien', 'Aquarien Zubehör', 'Portemonnaie', 'Actioncam Zubehör', 'Sägen & Schneiden elektrisch Zubehör', 'Kompressor', 'Krüge & Karaffen', 'Selbsttests', 'Messerblöcke', 'LED Panels / Rasterleuchten', 'Klimmzugstangen', 'Vertikutierer Zubehör', 'Unihockey Zubehör', 'MP3 & Media Player', 'Angelzubehör', 'Sport- & Aktivreisebücher', 'Schliesszylinder & Beschläge', 'Spielfiguren', 'Messerschärfer', 'Handball', 'Küchensiebe & Trichter', 'Fahrzeugpflege', 'Lautsprecher', 'Medizinische Messgeräte Zubehör', 'Kaffeemaschinen Zubehör', 'Faszientraining', 'Bluray', 'Hotel TV', 'Gartengeräte & Werkzeug Zubehör', 'Waschmittel & Textilpflege', 'Zelt Zubehör', 'Mixer Zubehör', 'Fahrzeug Ladegeräte & Adapter', 'Aquarieneinrichtung & Deko', 'Gartensprühgeräte', 'Kettensägen Zubehör', 'NAS Erweiterungseinheit', 'Netzwerk Zubehör', 'Gehhilfen', 'Reiskocher', 'Kratzbäume & Möbel', 'Stubenwagen & Wiegen', 'Streuteile', 'Zeichenplatten', 'Schutzblech', 'Metallprägung', 'Duftkerzen', 'Salz- & Gewürzstreuer', 'Festplatten Zubehör', 'Penisringe & -pumpen', 'Outdoorrucksack', 'Multifunktionswerkzeug Zubehör', 'Bremsscheiben', 'Leitungs- und Fehlerstromschalter FI', 'Billard Zubehör', 'Batterien & Akkus', 'Mäuse', 'Adventskalender', 'Handpflegeprodukte', 'Spielkonsolen Games', 'Küchenutensilienhalter', 'Greifer & Haken', 'Sonnenschirmständer & Zubehör', 'Tischtennistaschen & Hüllen', 'Werkzeug-Sets', 'Tennisbälle', 'Ordnen & Registrieren Zubehör', 'Bits & Bithalter', 'Activity Tracker Zubehör', 'Hunde Trockenfutter', 'Trekkingmatten', 'Aluminiumfolie', 'Ölen & Fetten Zubehör', 'Zubehör TV', 'Weiteres NAS Zubehör', 'Badminton Sets', 'Gartenliegen', 'Gartenscheren', 'Zubehör Beamer & Leinwände', 'Ladegeräte Werkzeug', 'Accessoires Kinderzimmer', 'Teigschaber & Spachtel', 'Velolampe', 'Dildos & Liebeskugeln', 'Elektrische Küchenmesser', 'Schmuck für Baby & Mama', 'Saatgut', 'Mobiltelefon Halterung', 'Siebträgermaschinen', 'Zahnbürstenköpfe & Aufsteckdüsen', 'Mobiltelefon Ladegerät', 'Badematten & -teppiche', 'Scheibenwischer', 'Drahtbürste', 'Joghurtgeräte', 'Gartendekoration', 'Reinigung Zubehör', 'Fahrzeugbeleuchtung', 'Gesellschaftsspiele', 'Küchenreiben', 'Haarpflegeprodukte', 'Schneeketten', 'Terrarien Mess- & Regeltechnik', 'Yoga & Pilates Zubehör', 'Kleinbackofen', 'Leitern & Gerüste', 'Tischsets', 'E-Bikes', 'Veloanhänger', 'Windeleimer', 'Bodengrund & Kies', 'Terrarieneinrichtung', 'Gartenschränke & Gerätehäuser', 'Wetterschutzhüllen', 'Fussballtraining Zubehör', 'Ratgeber Natur', 'Tiptoi & MagiBooks', 'Osterfiguren', 'Tiertransportbox', 'Schneidegeräte', 'Löt- & Schweissdraht', 'Toilettenbürste', 'Grillreinigung', 'Schneidemaschinen', 'Feuerstellen', 'Powerline', 'Kinderbetten', 'Mobiltelefone Occasion', 'Toilettenpapier', 'Kinderzimmer Bilder & Wandtattoos', 'Bleistifte', 'Handwerkzeug Zubehör', 'Echolot', 'Tassen & Becher', 'Scheibenbremse', 'Dunstabzugshauben Zubehör', 'Home Cinema Systeme', 'Tauchmaske', 'RC Boote Zubehör', 'CB-Funkgeräte', 'Herrenhygiene', 'Fahrzeugscheibenreiniger', 'Schalen', 'Weben & Sticken', 'Bürogeräte Zubehör', 'Kompostierung', 'Velokörbe', 'Nagelpflegegeräte Zubehör', 'Make-up Accessoires', 'Tellerwärmer', 'Grill Zubehör', 'Agenden & Kalender Zubehör', 'Bastelfolien', 'Deodorant', 'Spielkonsolen Zubehör', 'Computer Kabel / Adapter', 'Arbeitsspeicher', 'Elektrofahrzeug Ladegeräte & Stationen', 'Zubehör Fahrzeugpflege & -schutz', 'Essbesteck-Garnitur', 'Insektenhotels', 'Füllfederhalter', 'Pool Filterkartuschen & Filtersand', 'Outdoor Essgeschirr', 'Selbstbräuner', 'Antennen & SAT Kabel', 'Baby Spieluhr', 'Eiswürfel- & Glaceformen', 'Reinigungsmittel', 'Textiles Handwerk Zubehör', 'Backwerkzeuge', 'Felgenbremse', 'Manuelle Rasierer', 'Kindermultimedia Zubehör', 'Kinderregale & Spielzeugaufbewahrung', 'Sonnencreme', 'Hornhautentferner', 'Geschenkverpackung', 'Outdoor Wasseraufbereitung', 'Babynahrung', 'Activity Tracker', 'Hunde Nahrungsergänzung', 'DVD', 'Frittiergeräte', 'Nagelfeile', 'Hobelmaschine', 'Tablet Zubehör', 'Handtuchhaken & -halter', 'NAS Lüfter', 'Alltagshilfen', 'Küchenscheren', 'Sticker', 'Stromverteilungseinheiten PDU', 'Kondome', 'Warmluftbürsten', 'Dampfgarer', 'Trennwände', 'Kinderwagen', 'Säuglingsmilch', 'Heimtrainer', 'Nasensauger', 'Festnetztelefon', 'Velokassetten', 'Spielzeug Baby & Kleinkinder', 'Spielkonsolen', 'DJ Controller', 'Keilrahmen & Staffeleien', 'Veloglocke', 'Vibratoren', 'Kosmetikspiegel', 'Register', 'DVD / Blu-ray Player & Recorder', 'Kränze/Figuren', 'Bügeleisen', 'Geschenkbücher', 'Volleyball', 'Wertstoffsammler', 'Kettenwerkzeug', 'Laminierfolien', 'Dekupier- und Bandsägeblätter', 'Heft- & Nagelpistole', 'Schlafhilfen', 'Rasentrimmer', 'Foto- & Video Zubehör', 'Gartenlounge', 'Schmusetücher', 'On-Board-Diagnose', 'Laufbänder', 'Katzennäpfe & Futterautomaten', 'Aquarienbelüftung', 'Hängematten', 'Tee', 'Schubladenschränke', 'LEGO', 'Stimmungsleuchten', 'RAM & Grafikkühlung', 'DUPLO', 'Kinderaudioplayer', 'Velo Reinigung & Pflege', 'Couverts', 'Schulranzen', 'NAS Netzteile', 'Baby Liegehilfen & Stützkissen', 'Unihockeystock', 'Gleichgewichtstrainer', 'Tischkreissäge', 'Messtechnik', 'Boxhandschuhe', 'Pedale Zubehör', 'Bilderbücher', 'Farbrolle', 'Masturbatoren', 'Pflanzengefässe Zubehör', 'Stricken & Häkeln', 'Skihelm', 'Pinzetten für Handwerk und Hobby', 'Kleiderbügel', 'Fahrzeugaussenausstattung Zubehör', 'Wildtierfutter', 'Töpfchen', 'Kinderrobotik', 'Kapselsysteme', 'Mausmatte', 'Flaschenöffner', 'Holzkohle & Brennholz', 'Vogelkäfige & Volieren', 'Velo Schaltgriffe', 'Sonderlampen', 'Isolierkannen', 'elektrische Zahnbürsten', 'Multistyler', 'Baby Nagelpflege', 'Steckkarten', 'Eingabestift', 'Rasenmäher', 'Speicherkartenlesegeräte', 'Fahrzeugbatterieladegerät', 'Wintersportträger', 'Ordner', 'Hängematten Zubehör', 'Poolreinigung & Pflegezubehör', 'Gartenduschen', 'Wannengriffe', 'Trichter & Fassschlüssel', 'Haftnotizen', 'Dekoklebebänder', 'Badmintonschläger', 'Gleitmittel & Massage', 'Küchenschürzen', 'Babyschlafsack', 'Beleuchtung Zubehör', 'Kaffeebohnen/Kapseln', 'Brief- & Paketwaagen', 'Burgerpressen', 'Starthilfekabel', 'Standup Paddle', 'Besteckkästen', 'Raumduft Zubehör', 'Nachtlichter', 'Minen', 'Waffeleisen', 'Wolle', 'TV Möbel', 'Innenlager- & Pedalwerkzeug', 'Teebereiter', 'Herrendüfte', 'Caquelon & Fonduepfannen', 'Toilettensitz', 'Eiswürfelmaschinen', 'Langlaufpflege', 'Untersetzer', 'Kaffeebereiter', 'Standmixer', 'Informationsschilder', 'Scheren', 'Katzentoilette', 'E-Mobility Stromversorgung', 'Klimageräte', 'Bastelpapier', 'Waschmaschinenschläuche & Zubehör', 'Kerzen', 'Velopumpen', 'Rasierklingen', 'Bremsenwerkzeug', 'Teichbeleuchtung', 'Formulare & Vordrucke', 'Raumteiler', 'Hundebedarf', 'Babybekleidung', 'Rasensprenger', 'Bilder', 'RC Stromversorgung und Equipment', 'Eierbecher', 'Werkzeugkisten & -koffer', 'Papierkassetten', 'Vogelkäfigzubehör', 'Windräder', 'Bademäntel', 'Babyflaschen', 'Grillguthalterungen', 'Fussballtor', 'Yogamatten', 'Poliermaschinen', 'Fotodrucker', 'Eishockey Zubehör', 'Kosmetikpinzetten', 'Staubsaugerroboter', 'Küchenwaagen', 'Pendelleuchten', 'Badewannen & Badesitze', 'Duschsysteme', 'Gesichtspflegegeräte', 'Augenschutz', 'Pool Abdeckungen & Unterlagen', 'Servietten', 'Eiskratzer & Schneebesen', 'Brotkästen', 'Handkreissägen', 'Aschenbecher', 'Stühle', 'Bastelmaterial', 'Telefon Zubehör', 'Schablonen', 'Digital TV Receiver', 'Farbroller', 'Briefpapier & Postkarten', 'Zahnpflege Zubehör', 'Staubsauger Zubehör', 'Saisonales Basteln', 'Kinderwagen Zubehör', 'Wassersack', 'Reisekoffer', 'Nagerbedarf', 'Gartenschläuche', 'PC Bildschirmfolie', 'Bildbände', 'Regale & Vitrinen', 'Kaffeevollautomaten', 'Notizblöcke', 'Krabbeldecken & Spielbögen', 'Tischtennistisch', 'Katzen Snacks', 'Lastenträger', 'Ski- & Snowboardbrillen', 'Massagegeräte', 'Löt- & Schweisszubehör', 'Kanu', 'Modellieren & Giessen Zubehör', 'Insektenschutzgitter', 'Tonstudio', 'Druckluftzubehör', 'Kaffeemühlen', 'Fahrradhalter', 'Klebematerial', 'Auto Sonnenblenden', 'Schleifklötze & -schwämme', 'Hot Dog Maschinen', 'Stichsäge', 'LED Röhren', 'Diverse Küchengeräte', 'Dekobänder', 'Netzwerkrekorder', 'Handzahnbürsten', 'Tischtennisbälle', 'Rasenmähroboter Zubehör', 'Sonneninseln & Strandkörbe', 'Motorenöle', 'Entsteiner', 'Rennbahn Zubehör', 'Küchenmaschinen', 'Analdusche', 'Werkstattbeleuchtung', 'Stich- & Säbelsägeblätter', 'Espressokannen', 'Ovulationstests & Zykluskontrolle', 'Lötspitzen', 'Schneiden & Kleben Zubehör', 'Schlauchboot', 'Lunchboxen', 'Wäscheständer', 'Schleifmaschinen Zubehör', 'Rudergeräte', 'Multiroom Systeme', 'Heizstäbe', 'Geschirrset', 'Naturheilmittel', 'Comic & Graphic Novel', 'Fussmatten', 'Korrekturmittel & Radiergummi', 'Geschirrspüler', 'Stromkabel/Adapter/Steckerleisten', 'Netzwerk-Antennen', 'Schiedsrichter Pfeife', 'Prozessoren', 'USB Sticks', 'Pulsoximeter & EKG', 'E-Mobility', 'Stromerzeuger', 'Überwachungskamera Objektive', 'Damendüfte', 'Haar-/Bartschneider', 'Navigationsgeräte', 'Zubehör Kinderautositze', 'Schraubenschlüssel', 'Diverse Druckluftwerkzeuge', 'Locher', 'Zeiterfassungssystem', 'Playmobil', 'Fräsmaschinen', 'Stehsammler', 'Kellen & Spachtel', 'Video Adapter', 'KVM-Systeme', 'Küchenfolie', 'Feilen & Raspel Zubehör', 'Pflanzensubstrat & Dünger', 'Speicherkarten', 'Kleinsteuerungen SPS', 'Umwerfer', 'Gartentische', 'SAT-Set', 'Waschmaschinen', 'Schieblehren', 'Notizbücher', 'Backhelfer', 'Schleifstifte & Wellen', 'Babynahrungsbehälter', 'Moos', 'Veloschlauch', 'Unihockeyball', 'USV', 'Geschirrspüler Zubehör', 'Monitore', 'Elektrofahrzeug Zubehör', 'Analog- & Sofortbildkameras', 'Damenhygiene', 'Sitzsack Zubehör', 'Feldbetten', 'Schmucksteine', 'Dosenöffner', 'Schmuckaufbewahrung', 'Velokettenblatt', 'Objektive', 'Fitnesstrampolin', 'Büroklammern & Reissnägel', 'Taschenmesser & Werkzeuge', 'Pompons', 'Lockenstab', 'Gartenstühle', 'Tischtennisnetze', 'Bewässerungssysteme', 'Bremsleitung', 'Heissluftgebläse', 'Vorhängeschlösser', 'Babytragen', 'Deko Aufhänger', 'Aufbewahrungsbox', 'Staubsauger & Gebläse Zubehör', 'Schleifbänder', 'Spalt- & Schlagwerkzeuge Zubehör', 'Scanner Zubehör', 'Wandhaken', 'Fondue Zubehör', 'Mobiltelefon Schutzfolien', 'Tischtennis Beläge', 'Hygienemasken', 'Speicherkarten Zubehör', 'Weinkühlschränke', 'Baby- & Kindergeschirr', 'Filme & Fotoalben', 'Gepäckträger Zubehör', 'Taschen- & Kosmetiktücher', 'Aktenvernichter', 'Squashtaschen', 'Scheinwerfer', 'Schleifpapierbogen', 'Schlitten Zubehör', 'Boxsäcke', 'Velocomputer', 'Camcorder', 'Versand Zubehör', 'Gewürze & Salz', 'Fussbad', 'Warmhalteplatten', 'SIM-Karten', 'Stirnlampen', 'Filzen', 'Korkenzieher & Weinzubehör', 'Schwimmbekleidung', 'Server', 'Notebook Akku', 'Abricht- und Dickenhobel', 'Steckschaum', 'Bremskabel Innen & Aussenzüge', 'Baby- & Kinderkissen', 'Körper & Gesichtspflegegerät  Zubehör', 'Kinderbücher bis 11 Jahre', 'Rennbahn Streckenteile', 'Pizzaschneider', 'Notebook Dockingstation', 'Outdoor Ausrüstung', 'Draht', 'Zubehör Heimkino & Video', 'Schmelzsicherungen & Zubehör', 'Mobiltelefon & Tablet Kabel / Adapter', 'Innenausstattung Gadgets & Zubehör', 'Pflanzenschutzmittel', 'Vogelergänzungsfutter', 'Heften & Lochen Zubehör', 'Decken- & Wandleuchte', 'Topper', 'Vogel Snacks & Cracker', 'Wandhalterungen & Montage TV', 'Fitnessbänder', 'Küchenorganisation', 'Lattenrost', 'Zubehör Lebensmittelspender', 'Kinderfahrzeuge', 'Künstliche Kerzen', 'Bettlaken & Spannbettlaken', 'Fettpresse', 'Stehleuchten', 'Kinderautositze', 'Bluetooth & Minispeaker', 'Handschleifmittel Zubehör', 'Kindersicherungen', 'Access point & Repeater', 'Rasenmähroboter', 'Seifen selber machen', 'Baby WC-Sitz', 'Fahrzeuginnenreiniger', 'Freisprecheinrichtungen', 'Babyphones', 'Körper- & Gesichtspflege Accessoires', 'Künstlerbedarf Zubehör', 'Beamerhalterungen', 'Abfalleimer', 'Wasserkocher', 'Lernhilfen', 'Lesebrille', 'Briefkörbe', 'Dampfkochtöpfe', 'Nager Hauptfutter & Snacks', 'Gamecards & Prepaid-Karten', 'Backpinsel', 'Knieschoner', 'Heizgeräte', 'Tennisschläger', 'Rührflügel', 'Waschbeckenstöpsel', 'Schraubstöcke & Biegeapparate', 'Gepäckträger', 'Küchenmaschinen Zubehör', 'Deko & Floristik Zubehör', 'Bandschleifer & -Feilen', 'RC Helikopter & Flugzeuge', 'Heisskleben', 'Fensterreiniger', 'Sägeketten', 'PC Audio', 'Rollentrainer', 'Winkelschleifer', 'Kühlboxen', 'Spielsteuerungen', 'Dashcams', 'Spielwaren Adventskalender', 'Weihnachtsbacken', 'Puzzles', 'Teleskope', 'Kapp- und Gehrungssäge', 'Knoblauchpressen', 'Giesskannen', 'Nagelschere & Clip', 'Haushaltspapier', 'Übersetzer', 'Stubenwagen & Babyliegen Zubehör', 'Babymobile', 'Beauty Sets', 'Funktechnik Zubehör', 'Grafikkarten', 'Bastelschmuck', 'Kommoden & Sideboards', 'Musik & Gestaltung', 'Sofa', 'Schaum- & Latexmatratzen', 'Technisches Zeichnen Zubehör', 'HiFi Verstärker', 'Dokumententaschen', 'Firewall', 'Teppiche', 'Terrarienmöbel', 'Bandagen & Stützen', 'Tastaturen', 'Spielzelte & Bällebäder', 'Butterbrotpapier', 'Trenn- und Schruppscheiben', 'Terrarien', 'Kühlschränke', 'Ratgeber Sport', 'Wanddekoration', 'Sushi Utensilien', 'Badethermometer', 'Nussknacker', 'Aussenbeleuchtung', 'HiFi Bausteine', 'Datenträger', 'Dekokissen', 'Tablets', 'Kabelmanagement', 'Kerzen giessen', 'Ventilatoren', 'Enthaarungscreme & -wachs', 'Couchtische & Beistelltische', 'Designfolien', 'Vertikutierer & Häcksler', 'NAS Arbeitsspeicher', 'Scanner', 'Kinderleuchten', 'Strand- & Wasserschuhe', 'Weinregale & Barschränke', 'Fischfutter', 'Glacemaschinen', 'Babywaagen', 'Versandtaschen', 'Stoppuhr', 'Frischhalteclips', 'HiFi Anlagen', 'Schaltzüge Innen & Aussen', 'Fahrzeugwerkzeuge', 'Whiteboards', 'Feuchtigkeits- & Temperaturmessgerät', 'Maniküre Zubehör', 'Farbpaletten', 'Brotkörbe', 'Schuhschränke & Regale', 'Farbspritzpistole', 'Reiseartikel', 'Bau- & Konstruktionsspielzeug', 'Haustechnik & Sicherheit', 'Ratgeber Alltag', 'Haltungstrainer', 'Webcams', 'Velo Lenker', 'Kinderbettwäsche', 'Duschvorhang', 'Elektrofahrzeug Ladekabel', 'Geschirrabtropfablage', 'Lerncomputer & Kindertablets', 'Filter', 'Aquarienfilter', 'Pannenausrüstung', 'Blutdruckmessgeräte', 'Veloreifen', 'Spannungswandler', 'Tacker & Heftgeräte', 'Zahnseide', 'Ebook Reader', 'Reptilienfutter', 'Delta- Bogen- & Rollenschleifpapier', 'Baby Wärmekissen & Bettflaschen', 'Zubehör Multiroom & Bluetooth', 'Textilien Zubehör', 'Gymnastikbälle', 'Sägen & Schneiden Zubehör', 'Mini Stepper', 'Duvets', 'Massstäbe / Lineale', 'Kassettenwerkzeug', 'PC Games', 'Elektrische Zerkleinerer', 'Füllmaterialien', 'Heckenscheren', 'Rennbahn Fahrzeug', 'Ballnetz', 'Hundebekleidung', 'Schiedsrichter Bedarf', 'Stillkissen', 'Duftspray', 'Befestigen Zubehör', 'Bohrständer', 'Gaming Stühle', 'Hunde Nassfutter', 'Stabmixer', 'Brecheisen Meissel & Ahlen', '3D Drucker', 'Tischtennis Kleber & Reiniger', 'Säbelsäge', 'Handmixer', 'RC Helikopter & Flugzeuge Zubehör', 'Terrarienbeleuchtung', 'Fahrzeugelektrik Kleinteile', 'Fleischwölfe', 'Nagelhaut Tools', 'Küchenkleingeräte Zubehör', 'Dekorieren & Überziehen', 'Kühlschrank & Tiefkühler Zubehör', 'Brotbackautomaten', 'Bauch- & Rückentrainer', 'Schutzgitter', 'Telekommunikationssysteme', 'Pinsel', 'Duftlampen & ätherische Öle', 'Stirnlampen Zubehör', 'Muskelstimulatoren', 'Wassersprudler', 'Foto- & Videotaschen', 'Skitasche', 'Armbanduhren', 'Fernglas- & Teleskopzubehör', 'Druckerpapier & Folien', 'Hobelmesser für Maschinen', 'DJ Equipment', 'Vakuumierfolie', 'Brandbekämpfung', 'Tischuhr', 'Drucker Zubehör', 'Sichtschutz', 'RC Boote', 'Bart- & Rasurpflege', 'Wassersportträger', 'Systainer & Sortimentsaufbewahrung', 'Velobeleuchtung Zubehör', 'Schlüsselorganisation & Aufbewahrung', 'Velokörbe Zubehör', 'Reiseberichte', 'Ebook Zubehör', 'Duschköpfe', 'Haaraccessoires', 'Toilettenpapierhalter', 'Ellenbogenschoner', 'Router & Modem', 'Medienaufbewahrung', 'Personenwaage', 'Aquarienreinigung', 'Küchenmesser', 'Monitor Zubehör', 'Badewannenspielzeug', 'Fussschmuck', 'Spiegelreflexkameras', 'Badezusatz', 'Basketball', 'Bremsflüssigkeit', 'Reifen- & Felgenaufbewahrung', 'Werkzeuggürtel und -halfter', 'Kopfhörer & Headset', 'Meter & Bandmasse', 'Bohrer & Versenker', 'Brieföffner', 'RC Fahrzeuge Zubehör', 'Schleifvlies', 'Software', 'Bastelzubehör', 'Grundmaterialien', 'Rückfahrkameras & Einparkhilfen', 'Wärmeleitmittel', 'Leuchtmittel & Glühbirnen', 'Handball Zubehör', 'Zangen', 'Make-up Spezialprodukte', 'Kraftstationen', 'Mundpflegegeräte', 'Malerbürsten', 'Bad Accessoires', 'Klangbücher', 'Apothekenschrank', 'Veloreifen Zubehör', 'Butterdosen', 'Dachboxen', 'Spielbälle', 'Analoge Überwachungskameras', 'Raumklima Zubehör', 'Staubsauger', 'Schüssel', 'Haartrockner', 'Wattepads', 'Mobiltelefon Hüllen', 'Baby- & Kindershampoo', 'Reinigungsutensilien', 'Babytragen Zubehör', 'Geschirrhandtücher', 'Baby Feuchttücher', 'Dart Zubehör', 'Truhen & Bänke', 'Einkochautomaten', 'Reflektoren Radsport', 'Bewässerung Zubehör', 'Wickelunterlage', 'Smart Home Montage', 'Kampfsport Zubehör', 'Weihnachtsfiguren', 'Gesichtsreinigung', 'Pedal', 'CI Module / PayTV', 'Beissringe', 'Sitzsäcke', 'Bohrmaschinen/-Schrauber Zubehör', 'Drehstahl', 'Velowerkzeug', 'Betten', 'Wassersprudler Zubehör', 'Spiegel / Antennen', 'Pinnwände', 'Küchentimer', 'Blutzuckermessgeräte', 'Gesichtspflegeprodukte', 'Gartenhandwerkzeuge', 'Luftbetten & Gästebetten', 'Planschbecken', 'Tischfussball Zubehör', 'Radkappen / Radzierblenden', 'Stechbeitel', 'Diverse Bürogeräte', 'Drehbank', 'Etuis', 'Dartscheibe', 'Baby Badetücher & Waschlappen', 'Fahrzeugpoliermaschinen & -aufsätze', 'Vorlesebücher', 'RC Elektronik & Werkstatt', 'Zubehör DJ & Studio', 'Smart Home Komponenten', 'Schulhefte', 'Fieberthermometer', 'Laserdrucker', 'Standup Paddle Zubehör', 'Foto-& Bilderrahmen', 'Toy Cleaner', 'Präsentationstechnik', 'Concealer & Abdeckstifte', 'Nagellack & -entferner', 'Handtaschen', 'Bastel-Sets', 'Kinder Lern- & Spielbücher', 'Soundbars', 'Malschürze', 'Trinkgläser', 'Flipcharts', 'Ratgeber Fahrzeuge', 'Hand- & Fingerschutz', 'Nagelpflegeset', 'Toner & Trommeln', 'Zahnbürstenbecher', 'Taschenlampen Zubehör', 'Taucherbrillen', 'Stocktasche', 'Autobatterie', 'Zubehör Reifen & Felgen', 'Toilettengarnitur', 'Eiscrusher', 'Kochbesteck', 'Badewannen', 'Schneideplotter & Werkzeuge', 'Bonbons & Kaugummis', 'Zahnpasta', 'Druckermodule & Druckserver', 'Babyerinnerungen & Geburtstafeln', 'Spitzer', 'Nummernrahmen', 'Fetal Doppler', 'Powerbanks', 'Tisch- & Taschenrechner', 'Hochbeete & Zubehör', 'Kunst & Literatur', 'Uhrenarmbänder', 'Moltons', 'Kochgeschirr Zubehör', 'AV-Receiver', 'Elektroinstallation Klemmen & Verteiler', 'Entsafter', 'Aftersun', 'Taschenlampen', 'LNB', 'Grillbesteck', 'Rührwerke', 'Notebooks', 'Kinderbücher ab 12 Jahre', 'Lexika', 'Öler Zerstäuber & Spritzen', 'Fernseher', 'Notizzubehör', 'Fondue-Sets', 'Freizeitrucksäcke', 'Actioncams', 'Kinderstühle Zubehör', 'Schraubensicherung', 'Gewindewerkzeughalter', 'Werkzeugspiegel & Lupen', 'Türsprechanlagen & Klingeln', 'Hängeregister', 'Fräser', 'Spielfahrzeuge', 'Mascara', 'Wasserpflege', 'Schleifmaschinen stationär', 'Bügeln Zubehör', 'Scheibenbremse Zubehör', 'Puppenzubehör', 'Spezialsägeblätter', 'Insektenbekämpfung & Schädlingsabwehr', 'Naturwissenschaften', 'Reiseadapter', 'Fernbedienungen', 'PC Reinigung', 'Funsport', 'Mobility Zubehör', 'Luftbefeuchter', 'Arbeitsböcke', 'Kettensäge', 'Gabelwerkzeug', 'Funk-Scanner', 'Stative', 'Fineliner & Filzstifte', 'Sportuhren Zubehör', 'Wasserwaagen', 'Such- & Haftmagnete', 'Werkstatteinrichtung', 'Baby- & Kinderdecken', 'Digital Signage', 'Mappen & Hüllen', 'Weihnachtsschmuck', 'Plüschtiere', 'Zelte', 'Zeitungsständer', 'Partydekoration', 'Schleif- und Polierscheiben', 'Bandsäge', 'Unihockey Schaufeln', 'Karteikartensystem', 'Popcornmaschinen', 'Messer', 'Duftstäbchen', 'Schreibunterlagen & Klemmbretter', 'Gehäuse', 'Milchpumpe', 'Griffbänder', 'Waschmaschinen & Trockner Zubehör', 'Gesichtspuder', 'Haarbürsten', 'Ballpumpen', 'Teichpflegemittel', 'Hocker', 'Highlighter Bronzer & Rouge', 'Etikettenrolle', 'Einkaufshilfen', 'Kreide & Wachsmalstifte', 'Schlauchwagen & -Aufbewahrung', 'Tintendrucker', 'Inhalatoren', 'Abfallsäcke', 'Filtermaterial', 'Mundspülungen & -Sprays', 'Schreiben & Korrigieren Zubehör', 'Blitze & Leuchten', 'Kindertische & Sitzgruppen', 'Katzenstreu', 'Salz- & Pfeffermühlen', 'Science Fiction & Fantasy', 'Luftreiniger', 'Pool & Planschbecken Zubehör', 'Stempel & Zubehör', 'Wärmelampen', 'Badezimmerregale', 'Büroschubladenboxen', 'Rasenmäher Zubehör', 'Akku Ladegeräte', 'Zubehör MP3 & Media Player', 'Bohrmaschinen', 'Velokindersitz', 'Stiftehalter & Schreibtischorganizer', 'Nähfaden & Stickgarne', 'Primer & Foundation', 'Vorratsdose', 'Multicutter', 'Office Headsets', 'Katzen Nahrungsergänzung', 'Wäscheständer Zubehör', 'Mischpult', 'Montagesteckdosen & Schalter', 'Wäschekorb', 'Filterkaffeemaschinen', 'Kinderbettlaken & Matratzenschutz', 'Büroschränke & Regale', 'Armschmuck', 'Netzteile', 'Baby Geschenkset', 'Zitruspressen', 'Hämmer', 'Waschen & Trocknen', 'Toaster', 'Gartengeräte Akkus & Ladestationen', 'Dörrgeräte', 'Einlegesohlen', 'Kerzen Halter', 'Make-up Entferner', 'Pfannendeckel', 'Kartoffelpressen & -stampfer', 'Gartenspritzen & Brausen', 'Wasserball', 'Malerpinsel', 'Pflanzenroller', 'Frischhaltebeutel', 'Messtechnik Zubehör', 'Delta- & Schwingschleifer', 'Picknickdecken', 'Tischgeräte Zubehör', 'Stiftschlüssel', 'Gabeln', 'Entwicklerboards', 'Spannwerkzeug Zubehör', 'Taschen & Hüllen Notebooks', 'Unihockey Torwartmaske', 'Babypuder & Pflegeöle', 'Kaffeekapselhalter', 'Haushalt Diverses', 'Spezialsägen', 'Weihnachtskerzen', 'Stoff- Holz- & Badebücher', 'Springseile', 'Büromöbel Zubehör', 'Wäsche Zubehör', 'Audio Halterung', 'Lätzchen', 'Smartwatches', 'Reiseführer', 'Farbstifte', 'Zirkel', 'Bewässerungssteuerung', 'Bettflaschen', 'Tischfussball', 'Verbrauchsmaterial', 'Kleiderständer', 'Aufbügelbilder', 'Bepflanzung Zubehör', 'Seife & Desinfektionsmittel', 'Windeln', 'Crosstrainer', 'Äxte', 'Mobiltelefone', 'Squashbälle', 'Schreibtische', 'Reifenwerkzeug', 'Notebook Netzteil'}\n",
      "\n",
      "\n",
      "Unique categories in competitors: {'Ballwagen', 'Multicutter Zubehör'}\n",
      "\n",
      "\n"
     ]
    }
   ],
   "source": [
    "# Step 6: Compare product category differences\n",
    "own_only_categories = set(unique_own_categories) - set(unique_competitor_categories)\n",
    "competitor_only_categories = set(unique_competitor_categories) - set(unique_own_categories)\n",
    "overlap_categories = set(unique_own_categories) & set(unique_competitor_categories)\n",
    "\n",
    "own_only_categories_number = len(own_only_categories)\n",
    "competitor_only_categories_number = len(competitor_only_categories)\n",
    "overlap_categories_number = len(overlap_categories)\n",
    "\n",
    "\n",
    "# To make sure if the set is \"nan\", the number of the category should be \"0\"\n",
    "\n",
    "# Check if the set contains only \"nan\"\n",
    "if len(own_only_categories) == 1 and math.isnan(next(iter(own_only_categories))):\n",
    "    # If the set contains only nan, assign 0 to the length of this set\n",
    "    own_only_categories_number = 0\n",
    "else:\n",
    "    # If the set contains other values or is empty, use its normal length\n",
    "    own_only_categories_number = len(own_only_categories)\n",
    "print(f\"Unique categories in your own webshops only: {own_only_categories_number} category/categories\\n\\n\")\n",
    "    \n",
    "\n",
    "# Same to chect another set competitor_only_categories\n",
    "if len(competitor_only_categories) == 1 and math.isnan(next(iter(competitor_only_categories))): \n",
    "    competitor_only_categories_number = 0\n",
    "else:\n",
    "    competitor_only_categories_number = len(competitor_only_categories)\n",
    "print(f\"Unique categories in competitors: {competitor_only_categories_number} category/categories\\n\\n\")\n",
    "    \n",
    "\n",
    "# Same to chect another set overlap_categories\n",
    "if len(overlap_categories) == 1 and math.isnan(next(iter(overlap_categories))):\n",
    "    # If the set contains only nan, assign 0 to the length of this set\n",
    "    overlap_categories_number = 0\n",
    "else:\n",
    "    # If the set contains other values or is empty, use its normal length\n",
    "    overlap_categories_number = len(overlap_categories)\n",
    "print(f\"Categories common to both in total: {overlap_categories_number} category/categories\\n\\n\")\n",
    "\n",
    "\n",
    "print(f\"Unique categories in your own webshops only: {own_only_categories}\\n\\n\")\n",
    "print(f\"Categories common to both: {overlap_categories}\\n\\n\")\n",
    "print(f\"Unique categories in competitors: {competitor_only_categories}\\n\\n\")"
   ]
  },
  {
   "cell_type": "code",
   "execution_count": null,
   "id": "0d8a237b-1d5a-41a0-bef9-2540668a34b7",
   "metadata": {},
   "outputs": [],
   "source": []
  }
 ],
 "metadata": {
  "kernelspec": {
   "display_name": "Python 3 (ipykernel)",
   "language": "python",
   "name": "python3"
  },
  "language_info": {
   "codemirror_mode": {
    "name": "ipython",
    "version": 3
   },
   "file_extension": ".py",
   "mimetype": "text/x-python",
   "name": "python",
   "nbconvert_exporter": "python",
   "pygments_lexer": "ipython3",
   "version": "3.10.5"
  }
 },
 "nbformat": 4,
 "nbformat_minor": 5
}
