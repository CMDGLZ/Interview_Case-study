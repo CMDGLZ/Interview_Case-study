{
 "cells": [
  {
   "cell_type": "code",
   "execution_count": 1,
   "id": "f500e825-aad9-494d-a08e-6d9469632d3a",
   "metadata": {},
   "outputs": [],
   "source": [
    "import pandas as pd\n",
    "import matplotlib.pyplot as plt"
   ]
  },
  {
   "cell_type": "code",
   "execution_count": 2,
   "id": "dc2bfee3-0a20-48c9-b306-e0c3b23f056e",
   "metadata": {},
   "outputs": [],
   "source": [
    "# Step 1: Read all the Excel files into pandas dataframes\n",
    "file_dates = ['19.04.2021', '20.04.2021', '21.04.2021', '22.04.2021', '23.04.2021', '24.04.2021', '25.04.2021']\n",
    "dfs = []\n",
    "\n",
    "for date in file_dates:\n",
    "    file_path = f'VP_{date}.xlsx'\n",
    "    df = pd.read_excel(file_path)\n",
    "    dfs.append(df)"
   ]
  },
  {
   "cell_type": "code",
   "execution_count": 3,
   "id": "e6cb271d-6008-4612-a0be-8e1fde46385c",
   "metadata": {},
   "outputs": [],
   "source": [
    "# Step 2: Concatenate the dataframes into a single dataframe\n",
    "combined_df = pd.concat(dfs)"
   ]
  },
  {
   "cell_type": "code",
   "execution_count": 4,
   "id": "1acf1878-425a-472a-84b7-09d9fadc735e",
   "metadata": {},
   "outputs": [],
   "source": [
    "# Step 3: Group the data by \"Shop ID\" and \"product number\"\n",
    "grouped_df = combined_df.groupby([\"Shop ID\", \"Artikel Shop-Nummer\"])"
   ]
  },
  {
   "cell_type": "code",
   "execution_count": 5,
   "id": "a4e2b252-f51b-4148-8677-fba3a98b17ba",
   "metadata": {},
   "outputs": [],
   "source": [
    "# Step 4: Calculate the statistics \"mean, max, media, min, standard deviation\"\n",
    "summary_stats = grouped_df[\"Verkaufspreis\"].agg(['mean', 'median', 'min', 'max', 'std'])"
   ]
  },
  {
   "cell_type": "code",
   "execution_count": 6,
   "id": "fb4d88f6-c6ab-4e50-921b-666de597fc4e",
   "metadata": {},
   "outputs": [
    {
     "name": "stdout",
     "output_type": "stream",
     "text": [
      "                               mean  median     min     max  std\n",
      "Shop ID Artikel Shop-Nummer                                     \n",
      "1       33                    22.70   22.70   22.70   22.70  0.0\n",
      "        119                   17.90   17.90   17.90   17.90  0.0\n",
      "        120                   17.90   17.90   17.90   17.90  0.0\n",
      "        121                   17.90   17.90   17.90   17.90  0.0\n",
      "        122                   19.90   19.90   19.90   19.90  0.0\n",
      "...                             ...     ...     ...     ...  ...\n",
      "3       2746277               39.95   39.95   39.95   39.95  NaN\n",
      "        2746278               34.95   34.95   34.95   34.95  NaN\n",
      "        2746279              119.90  119.90  119.90  119.90  NaN\n",
      "        2746580               34.95   34.95   34.95   34.95  NaN\n",
      "        2747223              201.95  201.95  201.95  201.95  NaN\n",
      "\n",
      "[429729 rows x 5 columns]\n"
     ]
    }
   ],
   "source": [
    "# Display the summary statistics\n",
    "print(summary_stats)"
   ]
  },
  {
   "cell_type": "code",
   "execution_count": 7,
   "id": "170c1cfd-aead-42b8-8dd4-cbaa0bc78960",
   "metadata": {},
   "outputs": [],
   "source": [
    "summary_stats.to_csv(\"summary_stats_Q1.csv\")"
   ]
  },
  {
   "cell_type": "code",
   "execution_count": 8,
   "id": "5bba0695-daa5-4227-95fa-ddbddddc846a",
   "metadata": {},
   "outputs": [
    {
     "name": "stdout",
     "output_type": "stream",
     "text": [
      "         Number of Products  Number of Products with Price change  \\\n",
      "Shop ID                                                             \n",
      "1                    305933                                 70365   \n",
      "3                    123796                                 20194   \n",
      "\n",
      "         Percentage of Products with Price change  \n",
      "Shop ID                                            \n",
      "1                                       23.000134  \n",
      "3                                       16.312320  \n"
     ]
    }
   ],
   "source": [
    "# Step 5: Calculate the percentage of products with price changes in each webshop\n",
    "\n",
    "# 5.1 Count the total number of products in each webshop\n",
    "df = pd.read_csv(\"summary_stats_Q1.csv\")\n",
    "\n",
    "product_count_per_webshop = df.groupby(\"Shop ID\")[\"Artikel Shop-Nummer\"].count()\n",
    "\n",
    "# 5.2 Count the number of products with price change in each webshop\n",
    "price_change_product_count_per_webshop = df[df[\"std\"] != 0].groupby(\"Shop ID\")[\"Artikel Shop-Nummer\"].count()\n",
    "\n",
    "# 5.3 Calculate the percentage of products with price changes in each webshop\n",
    "total_products_per_webshop = df.groupby(\"Shop ID\")[\"Artikel Shop-Nummer\"].count()\n",
    "percentage_product_price_change_per_webshop = (price_change_product_count_per_webshop / total_products_per_webshop) * 100\n",
    "\n",
    "# 5.4 Combine the results into a new DataFrame\n",
    "result_df = pd.DataFrame({\n",
    "    \"Number of Products\": product_count_per_webshop,\n",
    "    \"Number of Products with Price change\": price_change_product_count_per_webshop,\n",
    "    \"Percentage of Products with Price change\": percentage_product_price_change_per_webshop\n",
    "})\n",
    "\n",
    "# 5.5 Display the combined DataFrame\n",
    "print(result_df)"
   ]
  }
 ],
 "metadata": {
  "kernelspec": {
   "display_name": "Python 3 (ipykernel)",
   "language": "python",
   "name": "python3"
  },
  "language_info": {
   "codemirror_mode": {
    "name": "ipython",
    "version": 3
   },
   "file_extension": ".py",
   "mimetype": "text/x-python",
   "name": "python",
   "nbconvert_exporter": "python",
   "pygments_lexer": "ipython3",
   "version": "3.10.5"
  }
 },
 "nbformat": 4,
 "nbformat_minor": 5
}
